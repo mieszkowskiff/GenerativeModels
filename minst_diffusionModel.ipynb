{
 "cells": [
  {
   "cell_type": "markdown",
   "metadata": {},
   "source": [
    "Imports:"
   ]
  },
  {
   "cell_type": "code",
   "execution_count": 1,
   "metadata": {},
   "outputs": [],
   "source": [
    "from torchvision import datasets, transforms\n",
    "from torch.utils.data import DataLoader, Subset\n",
    "from tqdm import tqdm\n",
    "import torch\n",
    "import utils\n",
    "import math\n",
    "import matplotlib.pyplot as plt"
   ]
  },
  {
   "cell_type": "markdown",
   "metadata": {},
   "source": [
    "Helper function for displaying generated images:"
   ]
  },
  {
   "cell_type": "code",
   "execution_count": 2,
   "metadata": {},
   "outputs": [],
   "source": [
    "def display(x):\n",
    "    if isinstance(x, torch.Tensor):\n",
    "        x = x.detach().cpu()\n",
    "        if x.dim() == 3 and x.shape[0] == 1:\n",
    "            x = x.squeeze(0)\n",
    "        elif x.dim() == 4 and x.shape[1] == 1:\n",
    "            x = x[0, 0]\n",
    "        x = (x + 3) / 6.0\n",
    "        x = torch.clamp(x, 0, 1)\n",
    "        plt.imshow(x.numpy(), cmap=\"gray\")\n",
    "        plt.axis('off')\n",
    "        plt.show()\n",
    "    else:\n",
    "        raise TypeError(\"Input must be a torch.Tensor\")"
   ]
  },
  {
   "cell_type": "markdown",
   "metadata": {},
   "source": [
    "Convolutional Layer (with time affine time encoding):"
   ]
  },
  {
   "cell_type": "code",
   "execution_count": 3,
   "metadata": {},
   "outputs": [],
   "source": [
    "class ConvolutionalBlock(torch.nn.Module):\n",
    "    def __init__(self, in_channels, out_channels, time_encoding_dim = 16):\n",
    "        super(ConvolutionalBlock, self).__init__()\n",
    "\n",
    "        self.conv = torch.nn.Conv2d(in_channels, out_channels, kernel_size = 4, stride = 2, padding = 1)\n",
    "\n",
    "        self.gn = torch.nn.GroupNorm(1, out_channels)\n",
    "        self.time_scale = torch.nn.Linear(time_encoding_dim, out_channels)\n",
    "        self.time_shift = torch.nn.Linear(time_encoding_dim, out_channels)\n",
    "\n",
    "        self.activation = torch.nn.SiLU()\n",
    "\n",
    "    def forward(self, x, time_encoding):\n",
    "        time_scale = self.time_scale(time_encoding).unsqueeze(-1).unsqueeze(-1)\n",
    "        time_shift = self.time_shift(time_encoding).unsqueeze(-1).unsqueeze(-1)\n",
    "\n",
    "        time_scale = self.activation(time_scale)\n",
    "        time_shift = self.activation(time_shift)\n",
    "\n",
    "\n",
    "        \n",
    "        x = self.conv(x)\n",
    "        \n",
    "        x = self.activation(x)\n",
    "        x = self.gn(x)\n",
    "\n",
    "        x = x * time_scale + time_shift # affine time encoding\n",
    "\n",
    "        return x"
   ]
  },
  {
   "cell_type": "markdown",
   "metadata": {},
   "source": [
    "Deconvolution (Transposed Convolution) with affine time encoding and skip connection:"
   ]
  },
  {
   "cell_type": "code",
   "execution_count": 4,
   "metadata": {},
   "outputs": [],
   "source": [
    "class ConvolutionalBlockTranspose(torch.nn.Module):\n",
    "    def __init__(self, in_channels, out_channels, time_encoding_dim = 16, skip_connection_channels = 0):\n",
    "        super(ConvolutionalBlockTranspose, self).__init__()\n",
    "        self.conv = torch.nn.ConvTranspose2d(\n",
    "            in_channels + skip_connection_channels, \n",
    "            out_channels, \n",
    "            kernel_size = 4,\n",
    "            stride = 2, \n",
    "            padding = 1\n",
    "        )\n",
    "\n",
    "        self.gn = torch.nn.GroupNorm(1, out_channels)\n",
    "        self.time_scale = torch.nn.Linear(time_encoding_dim, out_channels)\n",
    "        self.time_shift = torch.nn.Linear(time_encoding_dim, out_channels)\n",
    "\n",
    "        self.activation = torch.nn.SiLU()\n",
    "\n",
    "    def forward(self, x, time_encoding, skip_connection):\n",
    "\n",
    "        time_scale = self.time_scale(time_encoding).unsqueeze(-1).unsqueeze(-1)\n",
    "        time_shift = self.time_shift(time_encoding).unsqueeze(-1).unsqueeze(-1)\n",
    "\n",
    "        time_scale = self.activation(time_scale)\n",
    "        time_shift = self.activation(time_shift)\n",
    "\n",
    "        x = torch.cat([x, skip_connection], dim = 1)\n",
    "\n",
    "        \n",
    "        x = self.conv(x)\n",
    "        x = self.activation(x)\n",
    "        x = self.gn(x)\n",
    "\n",
    "        x = x * time_scale + time_shift # affine time encoding\n",
    "\n",
    "        return x\n",
    "    \n"
   ]
  },
  {
   "cell_type": "markdown",
   "metadata": {},
   "source": [
    "U-Net architecture:"
   ]
  },
  {
   "cell_type": "code",
   "execution_count": 25,
   "metadata": {},
   "outputs": [],
   "source": [
    "class MNISTUnet(torch.nn.Module):\n",
    "    def __init__(self, latent_dim, time_encoding_dim = 16):\n",
    "        super(MNISTUnet, self).__init__()\n",
    "        \n",
    "        self.encoder_conv = torch.nn.ModuleList([\n",
    "            ConvolutionalBlock(1, 32, time_encoding_dim),\n",
    "            ConvolutionalBlock(32, 64, time_encoding_dim),\n",
    "        ])\n",
    "\n",
    "        self.dense = torch.nn.Sequential(\n",
    "            torch.nn.Flatten(),\n",
    "            torch.nn.SiLU(),\n",
    "            torch.nn.Linear(64 * 7 * 7, latent_dim),\n",
    "            torch.nn.SiLU(),\n",
    "            torch.nn.Linear(latent_dim, 64 * 7 * 7),\n",
    "            torch.nn.SiLU(),\n",
    "            torch.nn.Unflatten(1, (64, 7, 7))\n",
    "        )\n",
    "\n",
    "\n",
    "        self.decoder_conv = torch.nn.ModuleList([\n",
    "            ConvolutionalBlockTranspose(64, 32, time_encoding_dim, skip_connection_channels = 64),\n",
    "            ConvolutionalBlockTranspose(32, 1, time_encoding_dim, skip_connection_channels = 32)\n",
    "\n",
    "        ])\n",
    "\n",
    "        self.latent_dim = latent_dim\n",
    "        self.time_encoding_dim = time_encoding_dim\n",
    "\n",
    "        self.time_mlp = torch.nn.Sequential(\n",
    "            torch.nn.Linear(time_encoding_dim, time_encoding_dim * 4),\n",
    "            torch.nn.SiLU(),\n",
    "            torch.nn.Linear(time_encoding_dim * 4, time_encoding_dim),\n",
    "            torch.nn.SiLU(),\n",
    "        )\n",
    "\n",
    "        self.device = torch.device(\"cuda\" if torch.cuda.is_available() else \"cpu\")\n",
    "        self.to(self.device)\n",
    "\n",
    "    def time_encoding(self, t):\n",
    "        sin = torch.cat([torch.sin(2 * math.pi * t * mul / self.steps).unsqueeze(1) for mul in range(1, self.time_encoding_dim // 2 + 1)], dim = 1)\n",
    "        cos = torch.cat([torch.cos(2 * math.pi * t * mul / self.steps).unsqueeze(1) for mul in range(1, self.time_encoding_dim // 2 + 1)], dim = 1)\n",
    "        \n",
    "        out = torch.cat([sin, cos], dim = 1)\n",
    "        return out\n",
    "    \n",
    "    def forward(self, x, t):\n",
    "        time_encoding = self.time_encoding(t)\n",
    "        time_encoding = self.time_mlp(time_encoding)\n",
    "\n",
    "        skip_connections = []\n",
    "        for idx, conv in enumerate(self.encoder_conv):\n",
    "            x = conv(x, time_encoding)\n",
    "            skip_connections.append(x.clone())\n",
    "\n",
    "        x = self.dense(x)\n",
    "\n",
    "        for idx, conv in enumerate(self.decoder_conv):\n",
    "            x = conv(x, time_encoding, skip_connections[-(idx + 1)])\n",
    "\n",
    "        return x"
   ]
  },
  {
   "cell_type": "code",
   "execution_count": 26,
   "metadata": {},
   "outputs": [],
   "source": [
    "class MNISTDiffusionModel(MNISTUnet):\n",
    "    def __init__(self, latent_dim = 2, time_encoding_dim = 2, beta_min = 0.001, beta_max = 0.02, steps = 1000):\n",
    "        super(MNISTDiffusionModel, self).__init__(latent_dim = latent_dim, time_encoding_dim = time_encoding_dim)\n",
    "\n",
    "        self.steps = steps\n",
    "\n",
    "        self.beta = torch.linspace(beta_min, beta_max, steps)\n",
    "        self.alpha = 1 - self.beta\n",
    "\n",
    "        self.alpha_hat = torch.cumprod(self.alpha, dim = 0)\n",
    "\n",
    "        self.optimizer = torch.optim.Adam(self.parameters(), lr=0.001)\n",
    "\n",
    "        self.loss_fn = torch.nn.MSELoss(reduction=\"mean\")\n",
    "\n",
    "        self.beta = self.beta.to(self.device)\n",
    "        self.alpha_hat = self.alpha_hat.to(self.device)\n",
    "        self.alpha = self.alpha.to(self.device)\n",
    "\n",
    "        self.reconstructing_noise = False\n",
    "\n",
    "\n",
    "    def train_step(self, x, t = None):\n",
    "        x = x.to(self.device)\n",
    "        if t is None:\n",
    "            t = torch.randint(0, len(self.alpha) - 1, (x.size(0),)).long()\n",
    "        noise = torch.randn_like(x).to(self.device)\n",
    "        t = t.to(self.device)\n",
    "        x_t = torch.sqrt(self.alpha_hat[t].reshape(-1, 1, 1, 1)) * x + torch.sqrt(1 - self.alpha_hat[t].reshape(-1, 1, 1, 1)) * noise\n",
    "        output = self(x_t, t)\n",
    "        if self.reconstructing_noise:\n",
    "            loss = self.loss_fn(output, noise)\n",
    "        else:\n",
    "            loss = self.loss_fn(output, x)\n",
    "        self.optimizer.zero_grad()\n",
    "        loss.backward()\n",
    "        self.optimizer.step()\n",
    "        return loss.item()\n",
    "\n",
    "\n",
    "    def sample(self, x = None, T = None):\n",
    "        if x is None:\n",
    "            x = torch.randn((1, 1, 28, 28)).to(self.device)\n",
    "        if T is None:\n",
    "            T = self.steps - 1\n",
    "        for t in tqdm(range(T - 1, 0, -1)):\n",
    "            t = torch.tensor([t]).to(self.device)\n",
    "            if self.reconstructing_noise:\n",
    "                recon_noise = self(x, t)\n",
    "            else:\n",
    "                recon_x = self(x, t)\n",
    "                recon_noise  = x - recon_x\n",
    "            mu = 1 / torch.sqrt(self.alpha[t]) * (x - (1 - self.alpha[t]) / torch.sqrt(1 - self.alpha_hat[t] + 1e-5) * recon_noise)\n",
    "            sigma = torch.sqrt(self.beta[t])\n",
    "            x = mu + sigma * torch.randn_like(x)\n",
    "        if self.reconstructing_noise:\n",
    "            recon_noise = self(x, torch.tensor([0]).to(self.device)).to(self.device)\n",
    "        else:\n",
    "            recon_x = self(x, torch.tensor([0]).to(self.device)).to(self.device)\n",
    "            recon_noise  = x - recon_x\n",
    "        x = 1 / torch.sqrt(self.alpha[0]) * (x - (1 - self.alpha[0]) / torch.sqrt(1 - self.alpha_hat[0] + 1e-5) * recon_noise)\n",
    "        return x"
   ]
  },
  {
   "cell_type": "code",
   "execution_count": 41,
   "metadata": {},
   "outputs": [],
   "source": [
    "transform = transforms.Compose([\n",
    "        transforms.ToTensor(),\n",
    "        transforms.Normalize((0.1307,), (0.3081,)),\n",
    "])\n",
    "    \n",
    "    \n",
    "train_dataset = datasets.MNIST(root='./data', train = True, download = True, transform = transform)"
   ]
  },
  {
   "cell_type": "code",
   "execution_count": 42,
   "metadata": {},
   "outputs": [],
   "source": [
    "indices = [i for i, (_, label) in enumerate(train_dataset) if label == 7]\n",
    "train_dataset = Subset(train_dataset, indices)"
   ]
  },
  {
   "cell_type": "code",
   "execution_count": 43,
   "metadata": {},
   "outputs": [
    {
     "name": "stderr",
     "output_type": "stream",
     "text": [
      "100%|██████████| 98/98 [00:02<00:00, 46.98it/s]\n"
     ]
    },
    {
     "name": "stdout",
     "output_type": "stream",
     "text": [
      "Epoch 1, Loss: 48.232021510601044\n"
     ]
    },
    {
     "name": "stderr",
     "output_type": "stream",
     "text": [
      "100%|██████████| 98/98 [00:02<00:00, 47.04it/s]\n"
     ]
    },
    {
     "name": "stdout",
     "output_type": "stream",
     "text": [
      "Epoch 2, Loss: 30.778204411268234\n"
     ]
    },
    {
     "name": "stderr",
     "output_type": "stream",
     "text": [
      "100%|██████████| 98/98 [00:02<00:00, 46.68it/s]\n"
     ]
    },
    {
     "name": "stdout",
     "output_type": "stream",
     "text": [
      "Epoch 3, Loss: 29.146579816937447\n"
     ]
    },
    {
     "name": "stderr",
     "output_type": "stream",
     "text": [
      "100%|██████████| 98/98 [00:02<00:00, 46.83it/s]\n"
     ]
    },
    {
     "name": "stdout",
     "output_type": "stream",
     "text": [
      "Epoch 4, Loss: 29.02911476790905\n"
     ]
    },
    {
     "name": "stderr",
     "output_type": "stream",
     "text": [
      "100%|██████████| 98/98 [00:02<00:00, 46.70it/s]\n"
     ]
    },
    {
     "name": "stdout",
     "output_type": "stream",
     "text": [
      "Epoch 5, Loss: 29.125365898013115\n"
     ]
    },
    {
     "name": "stderr",
     "output_type": "stream",
     "text": [
      "100%|██████████| 98/98 [00:02<00:00, 46.98it/s]\n"
     ]
    },
    {
     "name": "stdout",
     "output_type": "stream",
     "text": [
      "Epoch 6, Loss: 28.69750612974167\n"
     ]
    },
    {
     "name": "stderr",
     "output_type": "stream",
     "text": [
      "100%|██████████| 98/98 [00:02<00:00, 46.72it/s]\n"
     ]
    },
    {
     "name": "stdout",
     "output_type": "stream",
     "text": [
      "Epoch 7, Loss: 27.923026248812675\n"
     ]
    },
    {
     "name": "stderr",
     "output_type": "stream",
     "text": [
      "100%|██████████| 98/98 [00:02<00:00, 46.89it/s]\n"
     ]
    },
    {
     "name": "stdout",
     "output_type": "stream",
     "text": [
      "Epoch 8, Loss: 27.820910692214966\n"
     ]
    },
    {
     "name": "stderr",
     "output_type": "stream",
     "text": [
      "100%|██████████| 98/98 [00:02<00:00, 46.92it/s]\n"
     ]
    },
    {
     "name": "stdout",
     "output_type": "stream",
     "text": [
      "Epoch 9, Loss: 27.723757222294807\n"
     ]
    },
    {
     "name": "stderr",
     "output_type": "stream",
     "text": [
      "100%|██████████| 98/98 [00:02<00:00, 46.33it/s]"
     ]
    },
    {
     "name": "stdout",
     "output_type": "stream",
     "text": [
      "Epoch 10, Loss: 27.38690534234047\n"
     ]
    },
    {
     "name": "stderr",
     "output_type": "stream",
     "text": [
      "\n"
     ]
    }
   ],
   "source": [
    "epochs = 10\n",
    "\n",
    "train_loader = DataLoader(train_dataset, batch_size = 64, shuffle = True)\n",
    "model = MNISTDiffusionModel(latent_dim = 16, time_encoding_dim = 16, steps = 1000)\n",
    "for epoch in range(epochs):\n",
    "    model.train()\n",
    "    loss = 0\n",
    "    for x, _ in tqdm(train_loader):\n",
    "        loss += model.train_step(x)\n",
    "    print(f\"Epoch {epoch + 1}, Loss: {loss}\")"
   ]
  },
  {
   "cell_type": "code",
   "execution_count": 44,
   "metadata": {},
   "outputs": [
    {
     "name": "stderr",
     "output_type": "stream",
     "text": [
      "100%|██████████| 998/998 [00:03<00:00, 300.95it/s]\n"
     ]
    },
    {
     "data": {
      "image/png": "[encoded data removed]",
      "text/plain": [
       "<Figure size 640x480 with 1 Axes>"
      ]
     },
     "metadata": {},
     "output_type": "display_data"
    }
   ],
   "source": [
    "model.eval()\n",
    "with torch.no_grad():\n",
    "    recon = model.sample()\n",
    "    utils.display(recon)"
   ]
  }
 ],
 "metadata": {
  "kernelspec": {
   "display_name": ".venv",
   "language": "python",
   "name": "python3"
  },
  "language_info": {
   "codemirror_mode": {
    "name": "ipython",
    "version": 3
   },
   "file_extension": ".py",
   "mimetype": "text/x-python",
   "name": "python",
   "nbconvert_exporter": "python",
   "pygments_lexer": "ipython3",
   "version": "3.12.3"
  }
 },
 "nbformat": 4,
 "nbformat_minor": 2
}
